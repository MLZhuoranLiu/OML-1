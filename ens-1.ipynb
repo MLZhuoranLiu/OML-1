{
 "cells": [
  {
   "cell_type": "code",
   "execution_count": null,
   "metadata": {},
   "outputs": [
    {
     "name": "stdout",
     "output_type": "stream",
     "text": [
      "0.9999999999999999\n"
     ]
    }
   ],
   "source": [
    "# References:\n",
    "# https://www.kaggle.com/shujian/mlp-starter\n",
    "# https://www.kaggle.com/titericz/giba-darragh-ftrl-rerevisited\n",
    "# https://www.kaggle.com/joaopmpeinado/talkingdata-xgboost-lb-0-951\n",
    "# https://www.kaggle.com/pranav84/lightgbm-fixing-unbalanced-data\n",
    "# https://www.kaggle.com/cartographic/undersampler\n",
    "# https://www.kaggle.com/prashantkikani/weighted-app-chanel-os\n",
    "# https://www.kaggle.com/ogrellier/ftrl-in-chunck\n",
    "\n",
    "LOGIT_WEIGHT = .5\n",
    "\n",
    "import numpy as np # linear algebra\n",
    "import pandas as pd # data processing, CSV file I/O (e.g. pd.read_csv)\n",
    "from scipy.special import expit, logit\n",
    "\n",
    "almost_zero = 1e-10\n",
    "almost_one = 1 - almost_zero\n",
    "\n",
    "models = {\n",
    "  'xgb  ':  \"../download_ens/xgb_sub.csv\",\n",
    "  'ftrl1':  \"../download_ens/sub_proba.csv\",\n",
    "  'nn   ':  \"../download_ens/sub_mlp.csv\",\n",
    "  'lgb  ':  \"../download_ens/sub_lgb_balanced99.csv\",\n",
    "  'usam ':  \"../download_ens/pred.csv\",\n",
    "  'means':  \"../download_ens/subnew.csv\",\n",
    "  'ftrl2':  \"../download_ens/ftrl_submission.csv\"\n",
    "  }\n",
    "  \n",
    "weights = {\n",
    "  'xgb  ':  .02,\n",
    "  'ftrl1':  .09,\n",
    "  'nn   ':  .04,\n",
    "  'lgb  ':  .60,\n",
    "  'usam ':  .05,\n",
    "  'means':  .10,\n",
    "  'ftrl2':  .10\n",
    "  }\n",
    "  \n",
    "print (sum(weights.values()))\n",
    "\n",
    "\n",
    "subs = {m:pd.read_csv(models[m]) for m in models}\n",
    "first_model = list(models.keys())[0]\n",
    "n = subs[first_model].shape[0]\n",
    "\n",
    "ranks = {s:subs[s]['is_attributed'].rank()/n for s in subs}\n",
    "logits = {s:subs[s]['is_attributed'].clip(almost_zero,almost_one).apply(logit) for s in subs}\n",
    "\n",
    "logit_avg = 0\n",
    "rank_avg = 0\n",
    "for m in models:\n",
    "    s = logits[m].std()\n",
    "    print(m, s)\n",
    "    logit_avg = logit_avg + weights[m]*logits[m] / s\n",
    "    rank_avg = rank_avg + weights[m]*ranks[m]\n",
    "\n",
    "logit_rank_avg = logit_avg.rank()/n\n",
    "final_avg = LOGIT_WEIGHT*logit_rank_avg + (1-LOGIT_WEIGHT)*rank_avg\n",
    "\n",
    "final_sub = pd.DataFrame()\n",
    "final_sub['click_id'] = subs[first_model]['click_id']\n",
    "final_sub['is_attributed'] = final_avg\n",
    "\n",
    "final_sub.to_csv(\"../result/sub_ens_1.csv\", index=False)"
   ]
  },
  {
   "cell_type": "code",
   "execution_count": null,
   "metadata": {},
   "outputs": [],
   "source": []
  }
 ],
 "metadata": {
  "kernelspec": {
   "display_name": "Python 3",
   "language": "python",
   "name": "python3"
  },
  "language_info": {
   "codemirror_mode": {
    "name": "ipython",
    "version": 3
   },
   "file_extension": ".py",
   "mimetype": "text/x-python",
   "name": "python",
   "nbconvert_exporter": "python",
   "pygments_lexer": "ipython3",
   "version": "3.5.3"
  }
 },
 "nbformat": 4,
 "nbformat_minor": 2
}
