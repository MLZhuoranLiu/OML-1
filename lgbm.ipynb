{
 "cells": [
  {
   "cell_type": "code",
   "execution_count": 1,
   "metadata": {},
   "outputs": [
    {
     "name": "stderr",
     "output_type": "stream",
     "text": [
      "/Users/apple/anaconda3/lib/python3.5/site-packages/sklearn/cross_validation.py:44: DeprecationWarning: This module was deprecated in version 0.18 in favor of the model_selection module into which all the refactored classes and functions are moved. Also note that the interface of the new CV iterators are different from that of this module. This module will be removed in 0.20.\n",
      "  \"This module will be removed in 0.20.\", DeprecationWarning)\n"
     ]
    }
   ],
   "source": [
    "import pandas as pd\n",
    "import time\n",
    "import numpy as np\n",
    "from sklearn.cross_validation import train_test_split\n",
    "import lightgbm as lgb\n",
    "import gc"
   ]
  },
  {
   "cell_type": "code",
   "execution_count": null,
   "metadata": {},
   "outputs": [
    {
     "name": "stdout",
     "output_type": "stream",
     "text": [
      "[109.10712695121765] Finished loading data\n",
      "[885.3776168823242] Starting LGBM Training\n"
     ]
    },
    {
     "data": {
      "text/plain": [
       "0"
      ]
     },
     "execution_count": 3,
     "metadata": {},
     "output_type": "execute_result"
    }
   ],
   "source": [
    "path = '../data/'\n",
    "\n",
    "def dataPreProcessTime(df):\n",
    "    df['click_time'] = pd.to_datetime(df['click_time']).dt.date\n",
    "    df['click_time'] = df['click_time'].apply(lambda x: x.strftime('%Y%m%d')).astype(int)\n",
    "    \n",
    "    return df\n",
    "\n",
    "start_time = time.time()\n",
    "\n",
    "train = pd.read_csv(path+\"train.csv\", skiprows=130000000, nrows=70000000)\n",
    "train.columns = ['ip', 'app', 'device', 'os', 'channel', 'click_time', 'attributed_time', 'is_attributed']\n",
    "\n",
    "\n",
    "print('[{}] Finished loading data'.format(time.time() - start_time))\n",
    "\n",
    "train = dataPreProcessTime(train)\n",
    "\n",
    "\n",
    "y = train['is_attributed']\n",
    "train.drop(['is_attributed', 'attributed_time'], axis=1, inplace=True)\n",
    "\n",
    "\n",
    "print('[{}] Starting LGBM Training'.format(time.time() - start_time))\n",
    "\n",
    "params = {\n",
    "    'num_leaves': 31,\n",
    "    'objective': 'binary',\n",
    "    'min_data_in_leaf': 200,\n",
    "    'learning_rate': 0.08,\n",
    "    'feature_fraction': 0.8,\n",
    "    'bagging_fraction': 0.85,\n",
    "    'bagging_freq': 3,\n",
    "    'metric': 'auc',\n",
    "    'num_threads': 4,\n",
    "    'scale_pos_weight':400\n",
    "}\n",
    "\n",
    "MAX_ROUNDS = 600\n",
    "\n",
    "\n",
    "\n",
    "x1, x2, y1, y2 = train_test_split(train, y, test_size=0.1, random_state=99)\n",
    "\n",
    "del train, y\n",
    "gc.collect()\n",
    "\n",
    "dtrain = lgb.Dataset(x1, label=y1)\n",
    "dval = lgb.Dataset(x2, label=y2, reference=dtrain)\n",
    "\n",
    "del x1, x2, y1, y2\n",
    "gc.collect()\n"
   ]
  },
  {
   "cell_type": "code",
   "execution_count": null,
   "metadata": {},
   "outputs": [
    {
     "name": "stdout",
     "output_type": "stream",
     "text": [
      "Training until validation scores don't improve for 50 rounds.\n",
      "[10]\ttraining's auc: 0.955185\tvalid_1's auc: 0.954978\n",
      "[20]\ttraining's auc: 0.957852\tvalid_1's auc: 0.957469\n",
      "[30]\ttraining's auc: 0.960201\tvalid_1's auc: 0.960008\n",
      "[40]\ttraining's auc: 0.961671\tvalid_1's auc: 0.961503\n"
     ]
    }
   ],
   "source": [
    "\n",
    "model = lgb.train(params, dtrain, num_boost_round=MAX_ROUNDS, valid_sets=[dtrain, dval], early_stopping_rounds=50, verbose_eval=10)\n",
    "\n",
    "\n",
    "del dtrain, dval\n",
    "gc.collect()\n",
    "\n",
    "print('[{}] Finished LGBM Training'.format(time.time() - start_time))\n",
    "\n",
    "test = pd.read_csv(path+\"test.csv\")\n",
    "test = dataPreProcessTime(test)\n",
    "sub = pd.DataFrame()\n",
    "sub['click_id'] = test['click_id']\n",
    "test.drop('click_id', axis=1, inplace=True)\n",
    "sub['is_attributed'] = model.predict(test, num_iteration=model.best_iteration or MAX_ROUNDS)\n",
    "sub.to_csv('lgb_sub.csv',index=False)"
   ]
  },
  {
   "cell_type": "code",
   "execution_count": null,
   "metadata": {},
   "outputs": [],
   "source": []
  }
 ],
 "metadata": {
  "kernelspec": {
   "display_name": "Python 3",
   "language": "python",
   "name": "python3"
  },
  "language_info": {
   "codemirror_mode": {
    "name": "ipython",
    "version": 3
   },
   "file_extension": ".py",
   "mimetype": "text/x-python",
   "name": "python",
   "nbconvert_exporter": "python",
   "pygments_lexer": "ipython3",
   "version": "3.5.3"
  }
 },
 "nbformat": 4,
 "nbformat_minor": 2
}
