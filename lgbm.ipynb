{
 "cells": [
  {
   "cell_type": "code",
   "execution_count": 1,
   "metadata": {},
   "outputs": [
    {
     "name": "stderr",
     "output_type": "stream",
     "text": [
      "/Users/apple/anaconda3/lib/python3.5/site-packages/sklearn/cross_validation.py:44: DeprecationWarning: This module was deprecated in version 0.18 in favor of the model_selection module into which all the refactored classes and functions are moved. Also note that the interface of the new CV iterators are different from that of this module. This module will be removed in 0.20.\n",
      "  \"This module will be removed in 0.20.\", DeprecationWarning)\n"
     ]
    }
   ],
   "source": [
    "import pandas as pd\n",
    "import time\n",
    "import numpy as np\n",
    "from sklearn.cross_validation import train_test_split\n",
    "import lightgbm as lgb\n",
    "import gc"
   ]
  },
  {
   "cell_type": "code",
   "execution_count": 3,
   "metadata": {},
   "outputs": [
    {
     "name": "stdout",
     "output_type": "stream",
     "text": [
      "[109.10712695121765] Finished loading data\n",
      "[885.3776168823242] Starting LGBM Training\n"
     ]
    },
    {
     "data": {
      "text/plain": [
       "0"
      ]
     },
     "execution_count": 3,
     "metadata": {},
     "output_type": "execute_result"
    }
   ],
   "source": [
    "path = '../data/'\n",
    "\n",
    "def dataPreProcessTime(df):\n",
    "    df['click_time'] = pd.to_datetime(df['click_time']).dt.date\n",
    "    df['click_time'] = df['click_time'].apply(lambda x: x.strftime('%Y%m%d')).astype(int)\n",
    "    \n",
    "    return df\n",
    "\n",
    "start_time = time.time()\n",
    "\n",
    "train = pd.read_csv(path+\"train.csv\", skiprows=130000000, nrows=70000000)\n",
    "train.columns = ['ip', 'app', 'device', 'os', 'channel', 'click_time', 'attributed_time', 'is_attributed']\n",
    "\n",
    "\n",
    "print('[{}] Finished loading data'.format(time.time() - start_time))\n",
    "\n",
    "train = dataPreProcessTime(train)\n",
    "\n",
    "\n",
    "y = train['is_attributed']\n",
    "train.drop(['is_attributed', 'attributed_time'], axis=1, inplace=True)\n",
    "\n",
    "\n",
    "print('[{}] Starting LGBM Training'.format(time.time() - start_time))\n",
    "\n",
    "params = {\n",
    "    'num_leaves': 31,\n",
    "    'objective': 'binary',\n",
    "    'min_data_in_leaf': 200,\n",
    "    'learning_rate': 0.08,\n",
    "    'feature_fraction': 0.8,\n",
    "    'bagging_fraction': 0.85,\n",
    "    'bagging_freq': 3,\n",
    "    'metric': 'auc',\n",
    "    'num_threads': 4,\n",
    "    'scale_pos_weight':400\n",
    "}\n",
    "\n",
    "MAX_ROUNDS = 600\n",
    "\n",
    "\n",
    "\n",
    "x1, x2, y1, y2 = train_test_split(train, y, test_size=0.1, random_state=99)\n",
    "\n",
    "del train, y\n",
    "gc.collect()\n",
    "\n",
    "dtrain = lgb.Dataset(x1, label=y1)\n",
    "dval = lgb.Dataset(x2, label=y2, reference=dtrain)\n",
    "\n",
    "del x1, x2, y1, y2\n",
    "gc.collect()\n"
   ]
  },
  {
   "cell_type": "code",
   "execution_count": 4,
   "metadata": {},
   "outputs": [
    {
     "name": "stdout",
     "output_type": "stream",
     "text": [
      "Training until validation scores don't improve for 50 rounds.\n",
      "[10]\ttraining's auc: 0.955185\tvalid_1's auc: 0.954978\n",
      "[20]\ttraining's auc: 0.957852\tvalid_1's auc: 0.957469\n",
      "[30]\ttraining's auc: 0.960201\tvalid_1's auc: 0.960008\n",
      "[40]\ttraining's auc: 0.961671\tvalid_1's auc: 0.961503\n",
      "[50]\ttraining's auc: 0.962689\tvalid_1's auc: 0.962672\n",
      "[60]\ttraining's auc: 0.963432\tvalid_1's auc: 0.963405\n",
      "[70]\ttraining's auc: 0.964052\tvalid_1's auc: 0.963986\n",
      "[80]\ttraining's auc: 0.964592\tvalid_1's auc: 0.964485\n",
      "[90]\ttraining's auc: 0.965062\tvalid_1's auc: 0.964976\n",
      "[100]\ttraining's auc: 0.965575\tvalid_1's auc: 0.96542\n",
      "[110]\ttraining's auc: 0.965927\tvalid_1's auc: 0.965703\n",
      "[120]\ttraining's auc: 0.966252\tvalid_1's auc: 0.965935\n",
      "[130]\ttraining's auc: 0.966511\tvalid_1's auc: 0.966045\n",
      "[140]\ttraining's auc: 0.966757\tvalid_1's auc: 0.966194\n",
      "[150]\ttraining's auc: 0.966989\tvalid_1's auc: 0.966295\n",
      "[160]\ttraining's auc: 0.967254\tvalid_1's auc: 0.966491\n",
      "[170]\ttraining's auc: 0.96745\tvalid_1's auc: 0.966561\n",
      "[180]\ttraining's auc: 0.967633\tvalid_1's auc: 0.966605\n",
      "[190]\ttraining's auc: 0.967865\tvalid_1's auc: 0.966683\n",
      "[200]\ttraining's auc: 0.968056\tvalid_1's auc: 0.966776\n",
      "[210]\ttraining's auc: 0.968223\tvalid_1's auc: 0.966812\n",
      "[220]\ttraining's auc: 0.968366\tvalid_1's auc: 0.966867\n",
      "[230]\ttraining's auc: 0.968572\tvalid_1's auc: 0.966921\n",
      "[240]\ttraining's auc: 0.968715\tvalid_1's auc: 0.966965\n",
      "[250]\ttraining's auc: 0.968893\tvalid_1's auc: 0.966983\n",
      "[260]\ttraining's auc: 0.969043\tvalid_1's auc: 0.967018\n",
      "[270]\ttraining's auc: 0.969221\tvalid_1's auc: 0.967035\n",
      "[280]\ttraining's auc: 0.969397\tvalid_1's auc: 0.967054\n",
      "[290]\ttraining's auc: 0.969526\tvalid_1's auc: 0.967079\n",
      "[300]\ttraining's auc: 0.969684\tvalid_1's auc: 0.967144\n",
      "[310]\ttraining's auc: 0.969755\tvalid_1's auc: 0.967164\n",
      "[320]\ttraining's auc: 0.969866\tvalid_1's auc: 0.967196\n",
      "[330]\ttraining's auc: 0.970002\tvalid_1's auc: 0.967216\n",
      "[340]\ttraining's auc: 0.970111\tvalid_1's auc: 0.967234\n",
      "[350]\ttraining's auc: 0.970202\tvalid_1's auc: 0.967248\n",
      "[360]\ttraining's auc: 0.970335\tvalid_1's auc: 0.967261\n",
      "[370]\ttraining's auc: 0.970456\tvalid_1's auc: 0.96728\n",
      "[380]\ttraining's auc: 0.970576\tvalid_1's auc: 0.967304\n",
      "[390]\ttraining's auc: 0.970703\tvalid_1's auc: 0.967357\n",
      "[400]\ttraining's auc: 0.970787\tvalid_1's auc: 0.96737\n",
      "[410]\ttraining's auc: 0.970891\tvalid_1's auc: 0.967393\n",
      "[420]\ttraining's auc: 0.97098\tvalid_1's auc: 0.967411\n",
      "[430]\ttraining's auc: 0.971067\tvalid_1's auc: 0.967436\n",
      "[440]\ttraining's auc: 0.971189\tvalid_1's auc: 0.967447\n",
      "[450]\ttraining's auc: 0.97131\tvalid_1's auc: 0.967446\n",
      "[460]\ttraining's auc: 0.971402\tvalid_1's auc: 0.967464\n",
      "[470]\ttraining's auc: 0.971496\tvalid_1's auc: 0.967472\n",
      "[480]\ttraining's auc: 0.97159\tvalid_1's auc: 0.967478\n",
      "[490]\ttraining's auc: 0.971695\tvalid_1's auc: 0.967514\n",
      "[500]\ttraining's auc: 0.971773\tvalid_1's auc: 0.967535\n",
      "[510]\ttraining's auc: 0.971858\tvalid_1's auc: 0.967548\n",
      "[520]\ttraining's auc: 0.97196\tvalid_1's auc: 0.967549\n",
      "[530]\ttraining's auc: 0.972032\tvalid_1's auc: 0.967566\n",
      "[540]\ttraining's auc: 0.972093\tvalid_1's auc: 0.967571\n",
      "[550]\ttraining's auc: 0.972185\tvalid_1's auc: 0.967553\n",
      "[560]\ttraining's auc: 0.972262\tvalid_1's auc: 0.96757\n",
      "[570]\ttraining's auc: 0.972331\tvalid_1's auc: 0.967591\n",
      "[580]\ttraining's auc: 0.972391\tvalid_1's auc: 0.967589\n",
      "[590]\ttraining's auc: 0.972485\tvalid_1's auc: 0.967592\n",
      "[600]\ttraining's auc: 0.972577\tvalid_1's auc: 0.967622\n",
      "[22132.58893585205] Finished LGBM Training\n"
     ]
    }
   ],
   "source": [
    "\n",
    "model = lgb.train(params, dtrain, num_boost_round=MAX_ROUNDS, valid_sets=[dtrain, dval], early_stopping_rounds=50, verbose_eval=10)\n",
    "\n",
    "\n",
    "del dtrain, dval\n",
    "gc.collect()\n",
    "\n",
    "print('[{}] Finished LGBM Training'.format(time.time() - start_time))\n",
    "\n",
    "test = pd.read_csv(path+\"test.csv\")\n",
    "test = dataPreProcessTime(test)\n",
    "sub = pd.DataFrame()\n",
    "sub['click_id'] = test['click_id']\n",
    "test.drop('click_id', axis=1, inplace=True)\n",
    "sub['is_attributed'] = model.predict(test, num_iteration=model.best_iteration or MAX_ROUNDS)\n",
    "sub.to_csv('lgb_sub.csv',index=False)"
   ]
  },
  {
   "cell_type": "code",
   "execution_count": null,
   "metadata": {},
   "outputs": [],
   "source": []
  }
 ],
 "metadata": {
  "kernelspec": {
   "display_name": "Python 3",
   "language": "python",
   "name": "python3"
  },
  "language_info": {
   "codemirror_mode": {
    "name": "ipython",
    "version": 3
   },
   "file_extension": ".py",
   "mimetype": "text/x-python",
   "name": "python",
   "nbconvert_exporter": "python",
   "pygments_lexer": "ipython3",
   "version": "3.5.3"
  }
 },
 "nbformat": 4,
 "nbformat_minor": 2
}
